{
 "cells": [
  {
   "cell_type": "markdown",
   "metadata": {},
   "source": [
    "## CAPTUM Attributions\n",
    "\n",
    "Words' importance using CAPTUM."
   ]
  },
  {
   "cell_type": "code",
   "execution_count": null,
   "metadata": {},
   "outputs": [],
   "source": [
    "import torch \n",
    "import pandas as pd\n",
    "import numpy as np\n",
    "from transformers import BertForSequenceClassification, AutoTokenizer\n",
    "from transformers_interpret import SequenceClassificationExplainer\n",
    "\n",
    "DATASETS = [\n",
    "    # 'V-DS1',\n",
    "    # 'V-DS2',\n",
    "    # 'V-DS3',\n",
    "    # 'SI-DS1',\n",
    "    # 'SI-DS2',\n",
    "    'H-DS1',\n",
    "]\n",
    "\n",
    "OUTPUTS = [\n",
    "    # 'bertimbau-base',\n",
    "    # 'bert-base-multilingual-uncased',\n",
    "    # 'bert-base-multilingual-uncased',\n",
    "    'bert-base-uncased',\n",
    "    # 'distilbert-base-uncased'\n",
    "]\n",
    "\n",
    "CHECKPOINTS = [\n",
    "    # 'neuralmind/bert-base-portuguese-cased',\n",
    "    # 'bert-base-multilingual-uncased',\n",
    "    # 'bert-base-multilingual-uncased',\n",
    "    'bert-base-uncased',\n",
    "    # 'distilbert-base-uncased'\n",
    "]\n",
    "\n",
    "device = torch.device('cuda') if torch.cuda.is_available() else torch.device('cpu')"
   ]
  },
  {
   "cell_type": "code",
   "execution_count": null,
   "metadata": {},
   "outputs": [],
   "source": [
    "for i, dataset in enumerate(DATASETS):\n",
    "    print(f'Dataset {dataset}...')\n",
    "    for j, output in enumerate(OUTPUTS):\n",
    "        print(f' Model {output}...')\n",
    "        model = BertForSequenceClassification.from_pretrained(\n",
    "            f'./outputs/{dataset}/{output}/model/',\n",
    "            config=f'./outputs/{dataset}/{output}/model/config.json'\n",
    "        )\n",
    "        model.to(device)\n",
    "        tokenizer = AutoTokenizer.from_pretrained(CHECKPOINTS[j])\n",
    "        print(f'  Model is designed for {model.num_labels} labels.')\n",
    "\n",
    "        df = pd.read_csv(f'./outputs/{dataset}/{output}/test_results_complete.csv', sep=';')\n",
    "        tweets = df.tweet.values\n",
    "        gotten_classes = df.got.values\n",
    "\n",
    "        multiclass_explainer = SequenceClassificationExplainer(model=model, tokenizer=tokenizer)\n",
    "\n",
    "        captum_scores = []\n",
    "        for k, tweet in enumerate(tweets):\n",
    "            words_scores = multiclass_explainer(text=tweet)\n",
    "\n",
    "            if gotten_classes[k] != multiclass_explainer.predicted_class_index:\n",
    "                print(f'  Error for tweet ({k}): {tweet}')\n",
    "                raise\n",
    "\n",
    "            captum_scores.append(\n",
    "                np.array([score[1] for score in words_scores])\n",
    "            )\n",
    "\n",
    "            if ((k + 1) % 200) == 0:\n",
    "                print(f'  {k+1}/{len(tweets)}...')\n",
    "\n",
    "        torch.save(captum_scores, f'./outputs/{dataset}/{output}/captum.pt')\n",
    "\n",
    "        print('  Done.')\n",
    "\n",
    "    print('\\n')"
   ]
  }
 ],
 "metadata": {
  "interpreter": {
   "hash": "11804bb1f250a85d0267cdde9a53e916113451a0f88a057835fc51e3493d4141"
  },
  "kernelspec": {
   "display_name": "Python 3.8.3 64-bit ('base': conda)",
   "name": "python3"
  },
  "language_info": {
   "codemirror_mode": {
    "name": "ipython",
    "version": 3
   },
   "file_extension": ".py",
   "mimetype": "text/x-python",
   "name": "python",
   "nbconvert_exporter": "python",
   "pygments_lexer": "ipython3",
   "version": "3.8.3"
  },
  "orig_nbformat": 4
 },
 "nbformat": 4,
 "nbformat_minor": 2
}
